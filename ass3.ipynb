{
 "cells": [
  {
   "cell_type": "markdown",
   "metadata": {},
   "source": [
    "Data analysis"
   ]
  },
  {
   "cell_type": "code",
   "execution_count": 35,
   "metadata": {},
   "outputs": [],
   "source": [
    "import pandas as pd\n",
    "from PIL import Image\n",
    "import matplotlib.pyplot as plt\n",
    "import numpy as np\n",
    "import cv2\n",
    "import os\n",
    "\n",
    "# load the data\n",
    "data_dir = os.getcwd()\n",
    "test_images_dir = os.path.join(data_dir, 'test_ims')\n",
    "train_images_dir = os.path.join(data_dir, 'train_ims')\n",
    "\n",
    "train_df = pd.read_csv(os.path.join(data_dir, 'train.csv'))\n",
    "test_df = pd.read_csv(os.path.join(data_dir, 'test.csv'))\n",
    "\n",
    "# category_counts = train_df['label'].value_counts().sort_index()\n",
    "# num_categories = train_df['label'].nunique()\n",
    "\n",
    "# print(\"Number of categories: \", num_categories)\n",
    "# print(\"Number of training samples: \", len(train_df))\n",
    "\n",
    "# # Display images of each label\n",
    "# example_images = {}\n",
    "# unique_labels = sorted(train_df['label'].unique())\n",
    "# for label in unique_labels:\n",
    "#     sample_row = train_df[train_df['label'] == label].iloc[0]\n",
    "#     im_name = sample_row['im_name']\n",
    "\n",
    "#     image_path = os.path.join(train_images_dir, im_name)\n",
    "#     if os.path.exists(image_path):\n",
    "#         example_images[label] = image_path\n",
    "#     else:\n",
    "#         print(f\"Image not found: {image_path}\")\n",
    "#         continue\n",
    "\n",
    "# ncols = len(unique_labels)\n",
    "# plt.figure(figsize=(3 * ncols, 4))\n",
    "\n",
    "# for i, label in enumerate(unique_labels):\n",
    "#     plt.subplot(1, ncols, i + 1)\n",
    "#     if label in example_images:\n",
    "#         img = Image.open(example_images[label])\n",
    "#         plt.imshow(img)\n",
    "#         plt.title(f\"label {label}\")\n",
    "#     else:\n",
    "#         plt.text(0.5, 0.5, \"no image\", ha='center', va='center')\n",
    "#     plt.axis('off')\n",
    "\n",
    "# plt.suptitle(\"Image of each label\", fontsize=16)\n",
    "# plt.tight_layout()\n",
    "# plt.show()"
   ]
  },
  {
   "cell_type": "markdown",
   "metadata": {},
   "source": [
    "Data processing"
   ]
  },
  {
   "cell_type": "code",
   "execution_count": 36,
   "metadata": {},
   "outputs": [
    {
     "name": "stdout",
     "output_type": "stream",
     "text": [
      "(45000, 128, 128, 3)\n"
     ]
    }
   ],
   "source": [
    "from sklearn.model_selection import train_test_split\n",
    "\n",
    "IMG_SIZE = (128, 128)\n",
    "\n",
    "# Initialize lists to hold image data and labels\n",
    "X = []  # Feature vectors (flattened grayscale images)\n",
    "y = []  # Labels\n",
    "\n",
    "for idx, row in train_df.iterrows():\n",
    "    im_name = row['im_name']\n",
    "    label = row['label']\n",
    "    image_path = os.path.join(train_images_dir, im_name)\n",
    "    \n",
    "    try:\n",
    "        img_gray = cv2.imread(image_path,cv2.IMREAD_COLOR_RGB)\n",
    "        img_gray = cv2.resize(img_gray, IMG_SIZE)\n",
    "        X.append(img_gray)\n",
    "        y.append(label)\n",
    "    except:\n",
    "        raise Exception(f\"Image {im_name} does not exist.\")\n",
    "\n",
    "X = np.array(X)\n",
    "y = np.array(y)\n",
    "\n",
    "X_train, X_test, y_train, y_test = train_test_split(X, y, test_size=0.1)\n",
    "print(X_train.shape)"
   ]
  },
  {
   "cell_type": "code",
   "execution_count": 37,
   "metadata": {},
   "outputs": [
    {
     "data": {
      "text/plain": [
       "((45000, 1764), (5000, 1764))"
      ]
     },
     "execution_count": 37,
     "metadata": {},
     "output_type": "execute_result"
    }
   ],
   "source": [
    "from sklearn.base import BaseEstimator, TransformerMixin\n",
    "from skimage.feature import hog\n",
    "from sklearn.preprocessing import StandardScaler\n",
    "\n",
    "class HogTransformer(BaseEstimator, TransformerMixin):\n",
    "    \"\"\"\n",
    "    Expects an array of 2d arrays (1 channel images)\n",
    "    Calculates hog features for each img\n",
    "    \"\"\"\n",
    " \n",
    "    def __init__(self, y=None, orientations=9,\n",
    "                 pixels_per_cell=(8, 8),\n",
    "                 cells_per_block=(3, 3), block_norm='L2-Hys',\n",
    "                 channel_axis=None):\n",
    "        self.y = y\n",
    "        self.orientations = orientations\n",
    "        self.pixels_per_cell = pixels_per_cell\n",
    "        self.cells_per_block = cells_per_block\n",
    "        self.block_norm = block_norm\n",
    "        self.channel_axis = channel_axis\n",
    " \n",
    "    def fit(self, X, y=None):\n",
    "        return self\n",
    " \n",
    "    def transform(self, X, y=None):\n",
    " \n",
    "        def local_hog(X):\n",
    "            return hog(X,\n",
    "                       orientations=self.orientations,\n",
    "                       pixels_per_cell=self.pixels_per_cell,\n",
    "                       cells_per_block=self.cells_per_block,\n",
    "                       block_norm=self.block_norm,\n",
    "                       channel_axis=self.channel_axis)\n",
    " \n",
    "        try: # parallel\n",
    "            return np.array([local_hog(img) for img in X])\n",
    "        except:\n",
    "            return np.array([local_hog(img) for img in X])\n",
    "\n",
    "hogify = HogTransformer(\n",
    "    pixels_per_cell=(16, 16), \n",
    "    cells_per_block=(2,2), \n",
    "    orientations=9, \n",
    "    block_norm='L2-Hys',\n",
    "    channel_axis=2\n",
    ")\n",
    "scl = StandardScaler()\n",
    "X_train_hogify = hogify.fit_transform(X_train)\n",
    "X_train_prepared = scl.fit_transform(X_train_hogify)\n",
    "X_test_hogify = hogify.fit_transform(X_test)\n",
    "X_test_prepared = scl.fit_transform(X_test_hogify)\n",
    "X_train_hogify.shape, X_test_prepared.shape\n",
    "        "
   ]
  },
  {
   "cell_type": "code",
   "execution_count": null,
   "metadata": {},
   "outputs": [],
   "source": [
    "from sklearn.linear_model import SGDClassifier\n",
    "from sklearn.svm import SVC\n",
    "from sklearn.metrics import accuracy_score\n",
    "\n",
    "sgd = SVC(C=50.0, kernel='rbf', random_state=42)\n",
    "sgd.fit(X_train_prepared, y_train)\n",
    "\n",
    "print(\"fit finished\")\n",
    "\n",
    "y_train_pred = sgd.predict(X_train_prepared)\n",
    "y_test_pred = sgd.predict(X_test_prepared)\n",
    "\n",
    "print(accuracy_score(y_train, y_train_pred))\n",
    "print(accuracy_score(y_test, y_test_pred))"
   ]
  },
  {
   "cell_type": "code",
   "execution_count": null,
   "metadata": {},
   "outputs": [],
   "source": [
    "X_final = []  # Feature vectors (flattened grayscale images)\n",
    "y_final = []  # Labels\n",
    "\n",
    "for idx, row in test_df.iterrows():\n",
    "    im_name = row['im_name']\n",
    "    label = row['label']\n",
    "    image_path = os.path.join(test_images_dir, im_name)\n",
    "    \n",
    "    try:\n",
    "        img_gray = cv2.imread(image_path,cv2.IMREAD_COLOR_RGB)\n",
    "        # img_gray = cv2.resize(img_gray, IMG_SIZE)\n",
    "        X_final.append(img_gray)\n",
    "        y_final.append(label)\n",
    "    except:\n",
    "        raise Exception(f\"Image {im_name} does not exist.\")\n",
    "\n",
    "X_final = np.array(X_final)\n",
    "y_final = np.array(y_final)\n",
    "\n",
    "X_final_hogify = hogify.fit_transform(X_final)\n",
    "X_final_prepared = scl.fit_transform(X_final_hogify)\n",
    "print(X_final_prepared.shape)\n",
    "\n",
    "y_final_pred = sgd.predict(X_final_prepared)\n",
    "accuracy_score(y_final, y_final_pred)"
   ]
  },
  {
   "cell_type": "markdown",
   "metadata": {},
   "source": [
    "Train SVM classifier and Random Forest classifier"
   ]
  },
  {
   "cell_type": "code",
   "execution_count": null,
   "metadata": {},
   "outputs": [],
   "source": [
    "from sklearn.svm import SVC\n",
    "from sklearn.ensemble import RandomForestClassifier\n",
    "from sklearn.metrics import accuracy_score, classification_report\n",
    "from sklearn.ensemble import AdaBoostClassifier\n",
    "import time\n",
    "\n",
    "svm = SVC(C=1,kernel=\"rbf\")\n",
    "ada = AdaBoostClassifier(estimator=svm, n_estimators=10, learning_rate=0.1)\n",
    "\n",
    "time1 = time.time()\n",
    "ada = ada.fit(X_train, y_train)\n",
    "time2 = time.time()\n",
    "y_train_pred = ada.predict(X_train)\n",
    "y_test_pred = ada.predict(y_test)\n",
    "\n",
    "ada_test = accuracy_score(y_test, y_test_pred)\n",
    "print(ada_test)\n",
    "print(time2-time1)"
   ]
  }
 ],
 "metadata": {
  "kernelspec": {
   "display_name": "Python 3",
   "language": "python",
   "name": "python3"
  },
  "language_info": {
   "codemirror_mode": {
    "name": "ipython",
    "version": 3
   },
   "file_extension": ".py",
   "mimetype": "text/x-python",
   "name": "python",
   "nbconvert_exporter": "python",
   "pygments_lexer": "ipython3",
   "version": "3.13.1"
  }
 },
 "nbformat": 4,
 "nbformat_minor": 2
}
